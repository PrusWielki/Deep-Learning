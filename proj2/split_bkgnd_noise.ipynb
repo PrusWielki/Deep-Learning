{
 "cells": [
  {
   "cell_type": "code",
   "execution_count": 34,
   "metadata": {},
   "outputs": [],
   "source": [
    "from pydub import AudioSegment\n",
    "import os"
   ]
  },
  {
   "cell_type": "markdown",
   "metadata": {},
   "source": [
    "# Steps\n",
    "1. Rename _background_noise_ to _background_noise_original\n",
    "2. run the code. \n",
    "3. delete _background_noise_original"
   ]
  },
  {
   "cell_type": "code",
   "execution_count": 35,
   "metadata": {},
   "outputs": [],
   "source": [
    "BKGRND_DIR = \"./Dataset/train/audio/_background_noise_original\"\n",
    "OUTPUT_DIR = \"./Dataset/train/audio/_background_noise_\""
   ]
  },
  {
   "cell_type": "code",
   "execution_count": 36,
   "metadata": {},
   "outputs": [],
   "source": [
    "def split_audio_file(input_file, output_dir, split_length=1000, overlap=0.99):\n",
    "    audio = AudioSegment.from_wav(input_file)\n",
    "    file_name = os.path.basename(input_file)\n",
    "    file_name_no_extension = os.path.splitext(file_name)[0]\n",
    "\n",
    "    # Ensure output directory exists\n",
    "    os.makedirs(output_dir, exist_ok=True)\n",
    "\n",
    "    # Calculate the overlap duration\n",
    "    overlap_duration = int(split_length * overlap)\n",
    "\n",
    "    # Split the audio with overlap\n",
    "    start_time = 0\n",
    "    end_time = split_length\n",
    "    i = 1\n",
    "    while end_time < len(audio):\n",
    "        chunk = audio[start_time:end_time]\n",
    "        chunk.export(\n",
    "            os.path.join(output_dir, f\"{file_name_no_extension}_{i}.wav\"), format=\"wav\"\n",
    "        )\n",
    "        i += 1\n",
    "        start_time = end_time - overlap_duration\n",
    "        end_time = start_time + split_length"
   ]
  },
  {
   "cell_type": "code",
   "execution_count": 37,
   "metadata": {},
   "outputs": [],
   "source": [
    "# Walk through the directory and split each file\n",
    "for root, dirs, files in os.walk(BKGRND_DIR):\n",
    "    for file in files:\n",
    "        if file.endswith(\".wav\"):\n",
    "            input_file_path = os.path.join(root, file)\n",
    "            split_audio_file(input_file_path, OUTPUT_DIR)"
   ]
  },
  {
   "cell_type": "code",
   "execution_count": 38,
   "metadata": {},
   "outputs": [
    {
     "name": "stdout",
     "output_type": "stream",
     "text": [
      "Number of files in the output directory: 39342\n"
     ]
    }
   ],
   "source": [
    "def count_files(directory):\n",
    "    if os.path.exists(directory):\n",
    "        return len(\n",
    "            [\n",
    "                name\n",
    "                for name in os.listdir(directory)\n",
    "                if os.path.isfile(os.path.join(directory, name))\n",
    "            ]\n",
    "        )\n",
    "    else:\n",
    "        return 0\n",
    "\n",
    "\n",
    "# Count files in the output directory\n",
    "num_files = count_files(OUTPUT_DIR)\n",
    "print(\"Number of files in the output directory:\", num_files)"
   ]
  },
  {
   "cell_type": "code",
   "execution_count": null,
   "metadata": {},
   "outputs": [],
   "source": []
  }
 ],
 "metadata": {
  "kernelspec": {
   "display_name": ".tfenv",
   "language": "python",
   "name": "python3"
  },
  "language_info": {
   "codemirror_mode": {
    "name": "ipython",
    "version": 3
   },
   "file_extension": ".py",
   "mimetype": "text/x-python",
   "name": "python",
   "nbconvert_exporter": "python",
   "pygments_lexer": "ipython3",
   "version": "3.11.7"
  }
 },
 "nbformat": 4,
 "nbformat_minor": 2
}
