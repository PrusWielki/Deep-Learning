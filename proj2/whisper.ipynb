{
 "cells": [
  {
   "cell_type": "code",
   "execution_count": 13,
   "metadata": {},
   "outputs": [],
   "source": [
    "from faster_whisper import WhisperModel\n",
    "import pyaudio\n",
    "import soundfile as sf\n",
    "import os\n",
    "import pandas as pd\n",
    "import numpy as np\n",
    "import librosa\n",
    "import pandas as pd\n",
    "import tensorflow as tf\n",
    "from sklearn.model_selection import train_test_split\n",
    "from sklearn.metrics import confusion_matrix, accuracy_score\n",
    "import pandas as pd\n",
    "import matplotlib.pyplot as plt"
   ]
  },
  {
   "cell_type": "code",
   "execution_count": 4,
   "metadata": {},
   "outputs": [],
   "source": [
    "DATASET_DIR = \"./Dataset/train/audio/\""
   ]
  },
  {
   "cell_type": "code",
   "execution_count": 5,
   "metadata": {},
   "outputs": [],
   "source": [
    "# This block of code was insipired by the following link:\n",
    "# https://github.com/OldBonhart/TensorFlow_Speech_Recognition_Challenge/blob/master/Train___EfficientNet.ipynb\n",
    "labels = os.listdir(DATASET_DIR)\n",
    "data_map = {}\n",
    "for ind, label in enumerate(labels):\n",
    "    data_path = DATASET_DIR + label\n",
    "    data_map[data_path] = label, os.listdir(data_path), ind\n",
    "data_map.keys()\n",
    "data_map = {}\n",
    "for ind, label in enumerate(labels):\n",
    "    data_path = DATASET_DIR + label\n",
    "    data_map[ind] = label, os.listdir(data_path), ind\n",
    "df = pd.DataFrame(data_map.values(), columns=[\"label_name\", \"path\", \"label\"])\n",
    "df = df.set_index([\"label_name\", \"label\"])\n",
    "df.reset_index(inplace=True)\n",
    "rows = []\n",
    "_ = df.apply(\n",
    "    lambda row: [rows.append([row[\"label_name\"], row[\"label\"], nn]) for nn in row.path],\n",
    "    axis=1,\n",
    ")\n",
    "df_new = pd.DataFrame(rows, columns=df.columns)\n",
    "df_new.to_csv(r\"speech_commands_dataset_all_labels.csv\", index=True)\n",
    "# df_new['label']=df_new['label'].apply(lambda x: x if x<12 else x-1)\n",
    "data = df_new"
   ]
  },
  {
   "cell_type": "code",
   "execution_count": 6,
   "metadata": {},
   "outputs": [],
   "source": [
    "def preprocess_data(row):\n",
    "    signal_path = DATASET_DIR + row[\"label_name\"] + \"/\" + row[\"path\"]\n",
    "    # Load waveform\n",
    "    waveform, sample_rate = librosa.load(signal_path, mono=True, sr=None)\n",
    "    label = row[\"label_name\"]\n",
    "    return waveform, label"
   ]
  },
  {
   "cell_type": "code",
   "execution_count": 7,
   "metadata": {},
   "outputs": [],
   "source": [
    "_, test_df = train_test_split(df_new, stratify=df_new[\"label\"], test_size=0.001)\n",
    "num_classes = len(labels)"
   ]
  },
  {
   "cell_type": "code",
   "execution_count": 8,
   "metadata": {},
   "outputs": [
    {
     "data": {
      "text/plain": [
       "105"
      ]
     },
     "execution_count": 8,
     "metadata": {},
     "output_type": "execute_result"
    }
   ],
   "source": [
    "len(test_df)"
   ]
  },
  {
   "cell_type": "code",
   "execution_count": 10,
   "metadata": {},
   "outputs": [
    {
     "name": "stdout",
     "output_type": "stream",
     "text": [
      "Correct Predictions: out of 105 65\n",
      "Accuracy: 0.6190476190476191\n"
     ]
    }
   ],
   "source": [
    "correct_predictions = 0\n",
    "predicted_labels = []\n",
    "original_labels = []\n",
    "# Iterate over each row of the test DataFrame\n",
    "for index, row in test_df.iterrows():\n",
    "    pd = preprocess_data(row)\n",
    "    model = WhisperModel(\"base.en\", device=\"cpu\", compute_type=\"float32\")\n",
    "    segments, _ = model.transcribe(pd[0])\n",
    "    segments = list(segments)\n",
    "    predicted_label = \"\"\n",
    "    if segments:\n",
    "        predicted_label = segments[0].text.strip().lower()\n",
    "        predicted_label = (\n",
    "            predicted_label.replace(\".\", \"\")\n",
    "            .replace(\",\", \"\")\n",
    "            .replace(\"!\", \"\")\n",
    "            .replace(\"?\", \"\")\n",
    "            .replace(\" \", \"\")\n",
    "        )\n",
    "        predicted_label = (\n",
    "            predicted_label.replace(\"5\", \"five\")\n",
    "            .replace(\"1\", \"one\")\n",
    "            .replace(\"2\", \"two\")\n",
    "            .replace(\"3\", \"three\")\n",
    "            .replace(\"4\", \"four\")\n",
    "            .replace(\"6\", \"six\")\n",
    "            .replace(\"7\", \"seven\")\n",
    "            .replace(\"8\", \"eight\")\n",
    "            .replace(\"9\", \"nine\")\n",
    "            .replace(\"0\", \"zero\")\n",
    "        )\n",
    "    else:\n",
    "        predicted_label = \"_background_noise_\"\n",
    "    original_label = pd[1].strip().lower()\n",
    "\n",
    "    # Check if the predicted label matches the original label\n",
    "    predicted_labels.append(predicted_label)\n",
    "    original_labels.append(original_label)\n",
    "    if predicted_label == original_label:\n",
    "        correct_predictions += 1\n",
    "\n",
    "    # Now you can use or store the predicted_label and original_label as needed\n",
    "    # print(\"Predicted Label:\", predicted_label)\n",
    "    # print(\"Original Label:\", original_label)\n",
    "print(\"Correct Predictions: out of\", len(test_df), correct_predictions)\n",
    "print(\"Accuracy:\", correct_predictions / len(test_df))"
   ]
  },
  {
   "cell_type": "code",
   "execution_count": 11,
   "metadata": {},
   "outputs": [
    {
     "data": {
      "text/plain": [
       "['_background_noise_',\n",
       " 'eight',\n",
       " 'you',\n",
       " 'off',\n",
       " 'happy',\n",
       " 'go',\n",
       " 'seeyou',\n",
       " '_background_noise_',\n",
       " 'you',\n",
       " 'you',\n",
       " 'five',\n",
       " 'three',\n",
       " '_background_noise_',\n",
       " 'you',\n",
       " 'six',\n",
       " 'five',\n",
       " '_background_noise_',\n",
       " 'house',\n",
       " 'down',\n",
       " 'onetwothree',\n",
       " 'dog',\n",
       " 'you',\n",
       " 'seven',\n",
       " 'you',\n",
       " 'you',\n",
       " 'no',\n",
       " 'right',\n",
       " '_background_noise_',\n",
       " '_background_noise_',\n",
       " 'yes',\n",
       " 'happy',\n",
       " 'house',\n",
       " 'four',\n",
       " 'zero',\n",
       " 'go',\n",
       " 'yes',\n",
       " 'you',\n",
       " 'mode',\n",
       " 'you',\n",
       " 'you',\n",
       " 'oh',\n",
       " 'you',\n",
       " '_background_noise_',\n",
       " 'you',\n",
       " 'you',\n",
       " 'dog',\n",
       " 'you',\n",
       " 'you',\n",
       " 'yeah',\n",
       " 'tree',\n",
       " 'you',\n",
       " 'wow',\n",
       " 'you',\n",
       " 'yes',\n",
       " 'three',\n",
       " 'you',\n",
       " 'you',\n",
       " 'youbetter',\n",
       " 'no',\n",
       " '_background_noise_',\n",
       " 'seven',\n",
       " 'no',\n",
       " 'stop',\n",
       " 'zero',\n",
       " 'you',\n",
       " 'seven',\n",
       " 'on',\n",
       " 'you',\n",
       " 'or',\n",
       " 'stop',\n",
       " 'you',\n",
       " 'left',\n",
       " 'nine',\n",
       " 'you',\n",
       " 'wow',\n",
       " 'on',\n",
       " 'you',\n",
       " 'left',\n",
       " 'you',\n",
       " '_background_noise_',\n",
       " 'six',\n",
       " 'you',\n",
       " 'one',\n",
       " 'you',\n",
       " 'right',\n",
       " 'four',\n",
       " 'tree',\n",
       " 'stop',\n",
       " 'cat',\n",
       " 'down',\n",
       " 'you',\n",
       " 'you',\n",
       " 'sheila',\n",
       " 'you',\n",
       " 'marvin',\n",
       " 'nine',\n",
       " 'you',\n",
       " 'bed',\n",
       " 'marvin',\n",
       " 'bird',\n",
       " 'you',\n",
       " 'sheila',\n",
       " 'two',\n",
       " 'cat',\n",
       " 'up']"
      ]
     },
     "execution_count": 11,
     "metadata": {},
     "output_type": "execute_result"
    }
   ],
   "source": [
    "predicted_labels"
   ]
  },
  {
   "cell_type": "code",
   "execution_count": 12,
   "metadata": {},
   "outputs": [
    {
     "data": {
      "text/plain": [
       "['_background_noise_',\n",
       " 'eight',\n",
       " '_background_noise_',\n",
       " 'off',\n",
       " 'happy',\n",
       " 'go',\n",
       " 'two',\n",
       " '_background_noise_',\n",
       " '_background_noise_',\n",
       " '_background_noise_',\n",
       " 'five',\n",
       " 'three',\n",
       " '_background_noise_',\n",
       " '_background_noise_',\n",
       " 'six',\n",
       " 'five',\n",
       " '_background_noise_',\n",
       " 'house',\n",
       " 'down',\n",
       " 'one',\n",
       " 'dog',\n",
       " '_background_noise_',\n",
       " 'seven',\n",
       " '_background_noise_',\n",
       " '_background_noise_',\n",
       " 'no',\n",
       " 'right',\n",
       " '_background_noise_',\n",
       " '_background_noise_',\n",
       " 'yes',\n",
       " 'happy',\n",
       " 'house',\n",
       " 'four',\n",
       " 'zero',\n",
       " 'go',\n",
       " 'yes',\n",
       " '_background_noise_',\n",
       " 'bird',\n",
       " '_background_noise_',\n",
       " '_background_noise_',\n",
       " 'up',\n",
       " '_background_noise_',\n",
       " '_background_noise_',\n",
       " '_background_noise_',\n",
       " '_background_noise_',\n",
       " 'dog',\n",
       " '_background_noise_',\n",
       " '_background_noise_',\n",
       " 'eight',\n",
       " 'tree',\n",
       " '_background_noise_',\n",
       " 'wow',\n",
       " '_background_noise_',\n",
       " 'yes',\n",
       " 'three',\n",
       " '_background_noise_',\n",
       " '_background_noise_',\n",
       " 'bed',\n",
       " 'no',\n",
       " '_background_noise_',\n",
       " 'seven',\n",
       " 'no',\n",
       " 'stop',\n",
       " 'zero',\n",
       " '_background_noise_',\n",
       " 'seven',\n",
       " 'on',\n",
       " '_background_noise_',\n",
       " 'off',\n",
       " 'stop',\n",
       " '_background_noise_',\n",
       " 'left',\n",
       " 'nine',\n",
       " '_background_noise_',\n",
       " 'wow',\n",
       " 'on',\n",
       " '_background_noise_',\n",
       " 'left',\n",
       " '_background_noise_',\n",
       " 'zero',\n",
       " 'six',\n",
       " '_background_noise_',\n",
       " 'one',\n",
       " '_background_noise_',\n",
       " 'right',\n",
       " 'four',\n",
       " 'tree',\n",
       " 'stop',\n",
       " 'cat',\n",
       " 'down',\n",
       " '_background_noise_',\n",
       " '_background_noise_',\n",
       " 'sheila',\n",
       " '_background_noise_',\n",
       " 'marvin',\n",
       " 'nine',\n",
       " '_background_noise_',\n",
       " 'bed',\n",
       " 'marvin',\n",
       " 'bird',\n",
       " '_background_noise_',\n",
       " 'sheila',\n",
       " 'two',\n",
       " 'cat',\n",
       " 'up']"
      ]
     },
     "execution_count": 12,
     "metadata": {},
     "output_type": "execute_result"
    }
   ],
   "source": [
    "original_labels"
   ]
  },
  {
   "cell_type": "code",
   "execution_count": null,
   "metadata": {},
   "outputs": [],
   "source": []
  },
  {
   "cell_type": "code",
   "execution_count": 15,
   "metadata": {},
   "outputs": [
    {
     "data": {
      "image/png": "[encoded data removed]",
      "text/plain": [
       "<Figure size 800x600 with 2 Axes>"
      ]
     },
     "metadata": {},
     "output_type": "display_data"
    }
   ],
   "source": [
    "# Plot confusion matrix\n",
    "conf_mat = confusion_matrix(original_labels, predicted_labels)\n",
    "plt.figure(figsize=(8, 6))\n",
    "plt.imshow(conf_mat, cmap=plt.cm.Blues)\n",
    "title = \"Whisper\" + \" - Confusion Matrix\"\n",
    "\n",
    "plt.title(title)\n",
    "plt.colorbar()\n",
    "plt.xlabel(\"Predicted Label\")\n",
    "plt.ylabel(\"True Label\")\n",
    "\n",
    "# Set tick labels\n",
    "plt.xticks(np.arange(len(labels)), labels, rotation=90)\n",
    "plt.yticks(np.arange(len(labels)), labels, rotation=0)\n",
    "plt.savefig(title + \".png\", format=\"png\", bbox_inches=\"tight\")"
   ]
  },
  {
   "cell_type": "code",
   "execution_count": 21,
   "metadata": {},
   "outputs": [
    {
     "name": "stdout",
     "output_type": "stream",
     "text": [
      "[-3.0517578e-05  1.2207031e-04  2.1362305e-04 ...  1.8310547e-04\n",
      "  1.2207031e-04  0.0000000e+00]\n"
     ]
    }
   ],
   "source": [
    "# pd = preprocess_data(test_df.iloc[2])\n",
    "# print(pd[0])"
   ]
  },
  {
   "cell_type": "code",
   "execution_count": 22,
   "metadata": {},
   "outputs": [],
   "source": [
    "# model = WhisperModel('base.en', device='cpu', compute_type='float32')\n",
    "# segments, _ = model.transcribe(pd[0])\n",
    "# segments = list(segments)\n",
    "# predicted_label = segments[0].text.strip().lower()\n",
    "# original_label = pd[1].strip().lower()"
   ]
  }
 ],
 "metadata": {
  "kernelspec": {
   "display_name": ".tfenv",
   "language": "python",
   "name": "python3"
  },
  "language_info": {
   "codemirror_mode": {
    "name": "ipython",
    "version": 3
   },
   "file_extension": ".py",
   "mimetype": "text/x-python",
   "name": "python",
   "nbconvert_exporter": "python",
   "pygments_lexer": "ipython3",
   "version": "3.12.2"
  }
 },
 "nbformat": 4,
 "nbformat_minor": 2
}
