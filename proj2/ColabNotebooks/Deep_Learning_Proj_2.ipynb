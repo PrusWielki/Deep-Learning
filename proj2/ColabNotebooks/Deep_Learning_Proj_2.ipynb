{
  "cells": [
    {
      "cell_type": "markdown",
      "metadata": {
        "id": "o44uTVG34ihS"
      },
      "source": [
        "# TODO:\n",
        "\n",
        "3. Run the experiments\n",
        "4. Process results.\n",
        "5. Add more models\n",
        "5. Report\n",
        "6. Presentation"
      ]
    },
    {
      "cell_type": "markdown",
      "metadata": {
        "id": "fPnjTxH44_gQ"
      },
      "source": [
        "# Imports and consts"
      ]
    },
    {
      "cell_type": "code",
      "execution_count": 109,
      "metadata": {
        "id": "OrEZwe5I7Lbh"
      },
      "outputs": [],
      "source": [
        "IS_IN_COLAB=True"
      ]
    },
    {
      "cell_type": "code",
      "execution_count": 87,
      "metadata": {
        "id": "27WxR81yBegu"
      },
      "outputs": [],
      "source": [
        "import os\n",
        "import pandas as pd\n",
        "import numpy as np\n",
        "from scipy.fftpack import fft\n",
        "from scipy import signal\n",
        "from scipy.io import wavfile\n",
        "import librosa\n",
        "import pandas as pd\n",
        "import tensorflow as tf\n",
        "from sklearn.preprocessing import LabelEncoder\n",
        "import cv2\n",
        "from sklearn.model_selection import train_test_split\n",
        "import keras\n",
        "from keras.models import Sequential\n",
        "from keras.layers import Conv2D, MaxPooling2D, LSTM, Dense, Flatten, Reshape, Dropout\n",
        "from keras.optimizers import Adam, SGD, Lion\n",
        "from keras.regularizers import L2\n",
        "import numpy as np\n",
        "import matplotlib.pyplot as plt\n",
        "import seaborn as sns\n",
        "from sklearn.metrics import confusion_matrix, accuracy_score\n",
        "import shutil\n",
        "import random\n",
        "import pickle\n",
        "import pandas as pd\n",
        "from enum import Enum\n"
      ]
    },
    {
      "cell_type": "code",
      "execution_count": 88,
      "metadata": {
        "colab": {
          "base_uri": "https://localhost:8080/"
        },
        "id": "90Pojsh_6zdx",
        "outputId": "7b0c551d-7820-4166-d930-b8b10aa7ccf7"
      },
      "outputs": [
        {
          "name": "stdout",
          "output_type": "stream",
          "text": [
            "Drive already mounted at /content/drive; to attempt to forcibly remount, call drive.mount(\"/content/drive\", force_remount=True).\n",
            "\n",
            "7-Zip [64] 16.02 : Copyright (c) 1999-2016 Igor Pavlov : 2016-05-21\n",
            "p7zip Version 16.02 (locale=en_US.UTF-8,Utf16=on,HugeFiles=on,64 bits,8 CPUs Intel(R) Xeon(R) CPU @ 2.00GHz (50653),ASM,AES-NI)\n",
            "\n",
            "Scanning the drive for archives:\n",
            "  0M Scan /content/drive/My Drive/Studia/Masters/DeepLearning/Project2/Dataset/\b\b\b\b\b\b\b\b\b\b\b\b\b\b\b\b\b\b\b\b\b\b\b\b\b\b\b\b\b\b\b\b\b\b\b\b\b\b\b\b\b\b\b\b\b\b\b\b\b\b\b\b\b\b\b\b\b\b\b\b\b\b\b\b\b\b\b\b\b\b\b\b\b\b\b\b\b\b\b                                                                               \b\b\b\b\b\b\b\b\b\b\b\b\b\b\b\b\b\b\b\b\b\b\b\b\b\b\b\b\b\b\b\b\b\b\b\b\b\b\b\b\b\b\b\b\b\b\b\b\b\b\b\b\b\b\b\b\b\b\b\b\b\b\b\b\b\b\b\b\b\b\b\b\b\b\b\b\b\b\b1 file, 1121103842 bytes (1070 MiB)\n",
            "\n",
            "Extracting archive: /content/drive/My Drive/Studia/Masters/DeepLearning/Project2/Dataset/train.7z\n",
            "--\n",
            "Path = /content/drive/My Drive/Studia/Masters/DeepLearning/Project2/Dataset/train.7z\n",
            "Type = 7z\n",
            "Physical Size = 1121103842\n",
            "Headers Size = 389133\n",
            "Method = Delta LZMA2:24\n",
            "Solid = +\n",
            "Blocks = 2\n",
            "\n",
            "  0%\b\b\b\b    \b\b\b\b\n",
            "Would you like to replace the existing file:\n",
            "  Path:     /content/dataset/train/LICENSE\n",
            "  Size:     18651 bytes (19 KiB)\n",
            "  Modified: 2017-11-13 21:13:13\n",
            "with the file from archive:\n",
            "  Path:     train/LICENSE\n",
            "  Size:     18651 bytes (19 KiB)\n",
            "  Modified: 2017-11-13 21:13:13\n",
            "? (Y)es / (N)o / (A)lways / (S)kip all / A(u)to rename all / (Q)uit? "
          ]
        }
      ],
      "source": [
        "if IS_IN_COLAB:\n",
        "  from google.colab import drive\n",
        "  drive.mount('/content/drive')\n",
        "  !7z x /content/drive/'My Drive'/Studia/Masters/DeepLearning/Project2/Dataset/train.7z -o/content/dataset/\n"
      ]
    },
    {
      "cell_type": "code",
      "execution_count": 89,
      "metadata": {
        "id": "ujrBrQASxP7y"
      },
      "outputs": [],
      "source": [
        "# !7z x /content/drive/'My Drive'/Studia/Masters/DeepLearning/Project2/Dataset/test.7z -o/content/dataset/"
      ]
    },
    {
      "cell_type": "code",
      "execution_count": 90,
      "metadata": {
        "id": "QicdynaDwpvS"
      },
      "outputs": [],
      "source": [
        "if IS_IN_COLAB:\n",
        "  DATASET_DIR = '/content/dataset/train/audio/'\n",
        "else:\n",
        "  DATASET_DIR = '../Dataset/train/audio'\n",
        "# DATASET_DIR_TEST = '/content/dataset/test/audio/'"
      ]
    },
    {
      "cell_type": "markdown",
      "metadata": {
        "id": "3Txn_0W345XV"
      },
      "source": [
        "# Helper Functions"
      ]
    },
    {
      "cell_type": "code",
      "execution_count": 91,
      "metadata": {
        "id": "juD1StHIJOY0"
      },
      "outputs": [],
      "source": [
        "def set_seed(seed=0):\n",
        "    np.random.seed(seed)\n",
        "    tf.random.set_seed(seed)\n",
        "    random.seed(seed)\n",
        "    os.environ['TF_DETERMINISTIC_OPS'] = \"1\"\n",
        "    os.environ['TF_CUDNN_DETERMINISM'] = \"1\"\n",
        "    os.environ['PYTHONHASHSEED'] = str(seed)"
      ]
    },
    {
      "cell_type": "code",
      "execution_count": 92,
      "metadata": {
        "id": "E57fwdzAHfzf"
      },
      "outputs": [],
      "source": [
        "def log_specgram(audio, sample_rate, window_size=20,\n",
        "                 step_size=10, eps=1e-10):\n",
        "    nperseg = int(round(window_size * sample_rate / 1e3))\n",
        "    noverlap = int(round(step_size * sample_rate / 1e3))\n",
        "    freqs, times, spec = signal.spectrogram(audio,\n",
        "                                    fs=sample_rate,\n",
        "                                    window='hann',\n",
        "                                    nperseg=nperseg,\n",
        "                                    noverlap=noverlap,\n",
        "                                    detrend=False)\n",
        "    return freqs, times, np.log(spec.T.astype(np.float32) + eps)"
      ]
    },
    {
      "cell_type": "code",
      "execution_count": 93,
      "metadata": {
        "id": "v-YleYe0HxMn"
      },
      "outputs": [],
      "source": [
        "def preprocess_data(row, num_classes):\n",
        "    signal_path = DATASET_DIR + row['label_name'] + '/' + row['path']\n",
        "    samples, sample_rate = librosa.load(signal_path, mono=True, sr=None)\n",
        "    freqs, times, spectrogram = log_specgram(samples, sample_rate)\n",
        "    img = cv2.resize(spectrogram, (32, 32))\n",
        "    img = np.divide((img - np.mean(img)),np.std(img),out=img, where=np.std(img)!=0)\n",
        "    img = np.stack((img,) * 3, axis=-1).astype(np.float32)\n",
        "    label = np.zeros(num_classes)\n",
        "    label[row['label']] = 1\n",
        "    return img, label\n",
        "\n",
        "def create_dataset(df, num_classes, batch_size):\n",
        "    def generator():\n",
        "        for index, row in df.iterrows():\n",
        "            img, label = preprocess_data(row, num_classes)\n",
        "            yield img, label\n",
        "\n",
        "    dataset = tf.data.Dataset.from_generator(generator, output_signature=(tf.TensorSpec(shape=(32, 32, 3), dtype=tf.float32), tf.TensorSpec(shape=(num_classes,), dtype=tf.float32)))\n",
        "    # dataset = dataset.shuffle(buffer_size=len(df))\n",
        "    dataset = dataset.batch(batch_size)\n",
        "    # dataset = dataset.prefetch(2)\n",
        "    return dataset"
      ]
    },
    {
      "cell_type": "markdown",
      "metadata": {
        "id": "1Vuu9Ch94wpy"
      },
      "source": [
        "# Prepare data"
      ]
    },
    {
      "cell_type": "code",
      "execution_count": 94,
      "metadata": {
        "id": "CoMedtQHHhWt"
      },
      "outputs": [],
      "source": [
        "# This block of code was insipired by the following link:\n",
        "# https://github.com/OldBonhart/TensorFlow_Speech_Recognition_Challenge/blob/master/Train___EfficientNet.ipynb\n",
        "labels = os.listdir(DATASET_DIR)\n",
        "data_map = {}\n",
        "for ind, label in enumerate(labels):\n",
        "    data_path = DATASET_DIR + label\n",
        "    data_map[data_path] = label, os.listdir(data_path), ind\n",
        "data_map.keys()\n",
        "data_map = {}\n",
        "for ind, label in enumerate(labels):\n",
        "    data_path = DATASET_DIR + label\n",
        "    data_map[ind] = label, os.listdir(data_path), ind\n",
        "\n",
        "df = pd.DataFrame(data_map.values(),\n",
        "                  columns=[\"label_name\", \"path\", \"label\"])\n",
        "df = df.set_index(['label_name', 'label'])\n",
        "df.reset_index(inplace=True)\n",
        "# background = df[df['label_name'] == '_background_noise_']\n",
        "df = df[df['label_name'] != '_background_noise_']\n",
        "element_to_remove = \"_background_noise_\"\n",
        "if element_to_remove in labels:\n",
        "    labels.remove(element_to_remove)\n",
        "\n",
        "\n",
        "rows = []\n",
        "_ = df.apply(lambda row: [rows.append([row['label_name'], row['label'], nn])\n",
        "                         for nn in row.path], axis=1)\n",
        "df_new = pd.DataFrame(rows, columns=df.columns)\n",
        "df_new.to_csv(r'speech_commands_dataset_all_labels.csv', index=True)\n",
        "\n",
        "\n",
        "df_new['label']=df_new['label'].apply(lambda x: x if x<12 else x-1)"
      ]
    },
    {
      "cell_type": "code",
      "execution_count": 95,
      "metadata": {
        "id": "zx0CifXkYhrM"
      },
      "outputs": [],
      "source": [
        "data = df_new"
      ]
    },
    {
      "cell_type": "code",
      "execution_count": 96,
      "metadata": {
        "id": "8FmBkKP2HmRa"
      },
      "outputs": [],
      "source": [
        "input_shape = (32, 32, 3)\n",
        "num_classes = len(labels)"
      ]
    },
    {
      "cell_type": "markdown",
      "metadata": {
        "id": "ZeIgaT1K4uEj"
      },
      "source": [
        "# LSTM Test"
      ]
    },
    {
      "cell_type": "code",
      "execution_count": 97,
      "metadata": {
        "id": "n3fq1vEQHpBO"
      },
      "outputs": [],
      "source": [
        "epochs = 10\n",
        "batch_size = 128\n",
        "learning_rate=0.001"
      ]
    },
    {
      "cell_type": "code",
      "execution_count": 98,
      "metadata": {
        "colab": {
          "base_uri": "https://localhost:8080/"
        },
        "id": "5odUJSGHHumi",
        "outputId": "099c6c78-cc5a-4c36-8f3d-f15d67a44dd5"
      },
      "outputs": [
        {
          "name": "stdout",
          "output_type": "stream",
          "text": [
            "Model: \"sequential_8\"\n",
            "_________________________________________________________________\n",
            " Layer (type)                Output Shape              Param #   \n",
            "=================================================================\n",
            " conv2d_24 (Conv2D)          (None, 30, 30, 32)        896       \n",
            "                                                                 \n",
            " max_pooling2d_24 (MaxPooli  (None, 15, 15, 32)        0         \n",
            " ng2D)                                                           \n",
            "                                                                 \n",
            " conv2d_25 (Conv2D)          (None, 13, 13, 64)        18496     \n",
            "                                                                 \n",
            " max_pooling2d_25 (MaxPooli  (None, 6, 6, 64)          0         \n",
            " ng2D)                                                           \n",
            "                                                                 \n",
            " conv2d_26 (Conv2D)          (None, 4, 4, 128)         73856     \n",
            "                                                                 \n",
            " max_pooling2d_26 (MaxPooli  (None, 2, 2, 128)         0         \n",
            " ng2D)                                                           \n",
            "                                                                 \n",
            " flatten_8 (Flatten)         (None, 512)               0         \n",
            "                                                                 \n",
            " reshape_8 (Reshape)         (None, 4, 128)            0         \n",
            "                                                                 \n",
            " lstm_8 (LSTM)               (None, 128)               131584    \n",
            "                                                                 \n",
            " dense_8 (Dense)             (None, 30)                3870      \n",
            "                                                                 \n",
            "=================================================================\n",
            "Total params: 228702 (893.37 KB)\n",
            "Trainable params: 228702 (893.37 KB)\n",
            "Non-trainable params: 0 (0.00 Byte)\n",
            "_________________________________________________________________\n"
          ]
        }
      ],
      "source": [
        "model = Sequential([\n",
        "    Conv2D(32, (3, 3), activation='relu', input_shape=input_shape),\n",
        "    MaxPooling2D((2, 2)),\n",
        "    Conv2D(64, (3, 3), activation='relu'),\n",
        "    MaxPooling2D((2, 2)),\n",
        "    Conv2D(128, (3, 3), activation='relu'),\n",
        "    MaxPooling2D((2, 2)),\n",
        "    Flatten(),\n",
        "    Reshape((-1, 128)),\n",
        "    LSTM(128),\n",
        "    Dense(num_classes, activation='softmax')\n",
        "])\n",
        "model.compile(optimizer=Adam(learning_rate=learning_rate), loss='categorical_crossentropy', metrics=['accuracy'])\n",
        "model.summary()"
      ]
    },
    {
      "cell_type": "code",
      "execution_count": 100,
      "metadata": {
        "colab": {
          "base_uri": "https://localhost:8080/"
        },
        "id": "L3SistnyIZof",
        "outputId": "694b5000-448b-4fae-a4b4-3b52b8ac1e4c"
      },
      "outputs": [
        {
          "name": "stdout",
          "output_type": "stream",
          "text": [
            "(52423, 3) (6473, 3)\n",
            "label_name    object\n",
            "label          int64\n",
            "path          object\n",
            "dtype: object\n",
            "      label_name  label                   path\n",
            "53437        yes     24  060cd039_nohash_0.wav\n",
            "33047         up     15  77f185d3_nohash_0.wav\n",
            "268           go      0  fb24c826_nohash_0.wav\n",
            "38280         no     17  2796ac50_nohash_1.wav\n",
            "30334       stop     14  28ce0c58_nohash_2.wav\n"
          ]
        }
      ],
      "source": [
        "train_df, val_df = train_test_split(data, stratify=data['label'], test_size=0.1)\n",
        "train_df, test_df = train_test_split(train_df, stratify=train_df['label'], test_size=0.1)\n",
        "print(train_df.shape, val_df.shape)\n",
        "print(train_df.dtypes)\n",
        "print(train_df.head())"
      ]
    },
    {
      "cell_type": "code",
      "execution_count": 101,
      "metadata": {
        "id": "ZV9bihWpHzJh"
      },
      "outputs": [],
      "source": [
        "train_dataset = create_dataset(train_df, num_classes, batch_size)\n",
        "val_dataset = create_dataset(val_df, num_classes, batch_size)\n"
      ]
    },
    {
      "cell_type": "code",
      "execution_count": 102,
      "metadata": {
        "colab": {
          "base_uri": "https://localhost:8080/"
        },
        "id": "cMh6OAy_2P_P",
        "outputId": "fc4199f5-859c-411b-eca4-6fdefc00170a"
      },
      "outputs": [
        {
          "name": "stdout",
          "output_type": "stream",
          "text": [
            "Epoch 1/10\n",
            "410/410 [==============================] - 90s 212ms/step - loss: 1.6530 - accuracy: 0.5170 - val_loss: 0.9272 - val_accuracy: 0.7218\n",
            "Epoch 2/10\n",
            "410/410 [==============================] - 86s 211ms/step - loss: 0.7235 - accuracy: 0.7842 - val_loss: 0.6406 - val_accuracy: 0.8083\n",
            "Epoch 3/10\n",
            "410/410 [==============================] - 86s 210ms/step - loss: 0.5406 - accuracy: 0.8391 - val_loss: 0.5069 - val_accuracy: 0.8488\n",
            "Epoch 4/10\n",
            "410/410 [==============================] - 90s 219ms/step - loss: 0.4432 - accuracy: 0.8662 - val_loss: 0.4891 - val_accuracy: 0.8539\n",
            "Epoch 5/10\n",
            "410/410 [==============================] - 89s 217ms/step - loss: 0.3768 - accuracy: 0.8853 - val_loss: 0.5060 - val_accuracy: 0.8489\n",
            "Epoch 6/10\n",
            "410/410 [==============================] - 85s 208ms/step - loss: 0.3225 - accuracy: 0.9019 - val_loss: 0.5087 - val_accuracy: 0.8505\n",
            "Epoch 7/10\n",
            "410/410 [==============================] - 84s 205ms/step - loss: 0.2835 - accuracy: 0.9137 - val_loss: 0.4623 - val_accuracy: 0.8667\n",
            "Epoch 8/10\n",
            "410/410 [==============================] - 84s 205ms/step - loss: 0.2541 - accuracy: 0.9225 - val_loss: 0.4746 - val_accuracy: 0.8661\n",
            "Epoch 9/10\n",
            "410/410 [==============================] - 91s 221ms/step - loss: 0.2319 - accuracy: 0.9278 - val_loss: 0.4855 - val_accuracy: 0.8627\n",
            "Epoch 10/10\n",
            "410/410 [==============================] - 87s 213ms/step - loss: 0.2049 - accuracy: 0.9369 - val_loss: 0.5114 - val_accuracy: 0.8613\n"
          ]
        },
        {
          "data": {
            "text/plain": [
              "<keras.src.callbacks.History at 0x7e8c91099c30>"
            ]
          },
          "execution_count": 102,
          "metadata": {},
          "output_type": "execute_result"
        }
      ],
      "source": [
        "model.fit(train_dataset, epochs=epochs, batch_size=batch_size, validation_data=val_dataset)"
      ]
    },
    {
      "cell_type": "code",
      "execution_count": 103,
      "metadata": {
        "id": "VdzFAprzbFNo"
      },
      "outputs": [],
      "source": [
        "test_data=create_dataset(test_df, num_classes, batch_size)"
      ]
    },
    {
      "cell_type": "code",
      "execution_count": 104,
      "metadata": {
        "colab": {
          "base_uri": "https://localhost:8080/"
        },
        "id": "4AJAg-KZoOrf",
        "outputId": "425a49c4-2916-47a5-ce37-cb398cbcda1a"
      },
      "outputs": [
        {
          "name": "stdout",
          "output_type": "stream",
          "text": [
            "46/46 [==============================] - 9s 184ms/step\n"
          ]
        }
      ],
      "source": [
        "result=model.predict(test_data)"
      ]
    },
    {
      "cell_type": "code",
      "execution_count": 105,
      "metadata": {
        "id": "DQBXVm6coJTv"
      },
      "outputs": [],
      "source": [
        "y_pred=np.argmax(result,axis=1)"
      ]
    },
    {
      "cell_type": "code",
      "execution_count": 106,
      "metadata": {
        "id": "oyFLqegIbMd4"
      },
      "outputs": [],
      "source": [
        "y_true = []\n",
        "for index, row in test_df.iterrows():\n",
        "    y_true.append(row['label'])"
      ]
    },
    {
      "cell_type": "code",
      "execution_count": 107,
      "metadata": {
        "colab": {
          "base_uri": "https://localhost:8080/"
        },
        "id": "Vviikv2uczUy",
        "outputId": "7107d56a-ff11-41a3-b225-8fc2027faea2"
      },
      "outputs": [
        {
          "data": {
            "text/plain": [
              "0.8571673819742489"
            ]
          },
          "execution_count": 107,
          "metadata": {},
          "output_type": "execute_result"
        }
      ],
      "source": [
        "correct=0\n",
        "for i,y in enumerate(y_pred):\n",
        "    if y==y_true[i]:\n",
        "      correct+=1\n",
        "correct/len(y_true)"
      ]
    },
    {
      "cell_type": "code",
      "execution_count": 108,
      "metadata": {
        "colab": {
          "base_uri": "https://localhost:8080/",
          "height": 616
        },
        "id": "PiWcguPDIDEb",
        "outputId": "e4ac6cc4-855b-4168-c493-da7638f137db"
      },
      "outputs": [
        {
          "name": "stdout",
          "output_type": "stream",
          "text": [
            "Accuracy: 0.8571673819742489\n"
          ]
        },
        {
          "data": {
            "image/png": "[encoded data removed]",
            "text/plain": [
              "<Figure size 800x600 with 2 Axes>"
            ]
          },
          "metadata": {},
          "output_type": "display_data"
        }
      ],
      "source": [
        "# Calculate accuracy\n",
        "accuracy = accuracy_score(y_true, y_pred)\n",
        "print(\"Accuracy:\", accuracy)\n",
        "\n",
        "# Plot confusion matrix\n",
        "conf_mat = confusion_matrix(y_true, y_pred)\n",
        "plt.figure(figsize=(8, 6))\n",
        "plt.imshow(conf_mat, cmap=plt.cm.Blues)\n",
        "plt.title('Confusion Matrix')\n",
        "plt.colorbar()\n",
        "plt.xlabel('Predicted Label')\n",
        "plt.ylabel('True Label')\n",
        "\n",
        "# Set tick labels\n",
        "plt.xticks(np.arange(len(labels)), labels, rotation=90)\n",
        "plt.yticks(np.arange(len(labels)), labels, rotation=0)\n",
        "plt.show()"
      ]
    },
    {
      "cell_type": "markdown",
      "metadata": {
        "id": "KaW_1QTFKRmt"
      },
      "source": [
        "# Experiments Pipeline\n"
      ]
    },
    {
      "cell_type": "markdown",
      "metadata": {
        "id": "gdzKgj6S5j0m"
      },
      "source": [
        "## Functions and classes"
      ]
    },
    {
      "cell_type": "code",
      "execution_count": 110,
      "metadata": {
        "id": "7BGx27qOKZBl"
      },
      "outputs": [],
      "source": [
        "class AugmentationTechnique(Enum):\n",
        "    NoAugmentation = 0\n",
        "    Tempo = 1\n",
        "    Echo = 2\n",
        "    Noise = 3\n",
        "\n",
        "class ModelType(Enum):\n",
        "    LSTM =1\n",
        "    Transformer = 2\n",
        "\n",
        "class OptimizerType(Enum):\n",
        "    Adam = 1\n",
        "    Sgd=2\n",
        "    Lion=3\n",
        "class RegularizationType(Enum):\n",
        "    NoRegularization = 1\n",
        "    L2 =2\n",
        "    Dropout=3\n",
        "def getRegularizer(regularizerType,value):\n",
        "    match regularizerType:\n",
        "        case RegularizationType.L2:\n",
        "            return L2(value)\n",
        "def getDenseLayer(model,regularization, activation,nodes):\n",
        "        match regularization['type']:\n",
        "            case RegularizationType.Dropout:\n",
        "                model.add(Dropout(rate=regularization['value']))\n",
        "                model.add(Dense(nodes, activation=activation))\n",
        "            case RegularizationType.NoRegularization:\n",
        "                model.add(Dense(nodes, activation=activation))\n",
        "            case RegularizationType.L2:\n",
        "                model.add(Dense(nodes, activation=activation, kernel_regularizer=getRegularizer(regularizerType=regularization['type'],value=regularization['value'])))\n",
        "def getAugmentationLayer(model,technique, seed):\n",
        "    match technique:\n",
        "        case AugmentationTechnique.NoAugmentation:\n",
        "            return;\n",
        "\n",
        "\n",
        "class Model:\n",
        "    def fit(self,batch_size,epochs,train_images,train_labels,valid_images,valid_labels):\n",
        "        pass\n",
        "    def predict(self,test_images):\n",
        "        pass\n",
        "    def __init__(self,optimizer,loss,metrics):\n",
        "        pass\n",
        "\n",
        "class CustomLSTM(Model):\n",
        "    def __init__(self,optimizer,loss,metrics,regularizer,seed,augmentation,num_classes):\n",
        "\n",
        "        self.model = Sequential([\n",
        "            Conv2D(32, (3, 3), activation='relu', input_shape=input_shape),\n",
        "            MaxPooling2D((2, 2)),\n",
        "            Conv2D(64, (3, 3), activation='relu'),\n",
        "            MaxPooling2D((2, 2)),\n",
        "            Conv2D(128, (3, 3), activation='relu'),\n",
        "            MaxPooling2D((2, 2)),\n",
        "            Flatten(),\n",
        "            Reshape((-1, 128)),\n",
        "            LSTM(128),\n",
        "            Dense(num_classes, activation='softmax')\n",
        "        ])\n",
        "        self.model.compile(optimizer=optimizer, loss=loss, metrics=metrics)\n",
        "\n",
        "    def fit(self,batch_size,epochs,train_dataset,val_dataset):\n",
        "        return self.model.fit(train_dataset, epochs=epochs, batch_size=batch_size, validation_data=val_dataset)\n",
        "\n",
        "    def predict(self,test_df):\n",
        "        result=self.model.predict(test_data)\n",
        "        return np.argmax(result,axis=1)\n",
        "\n",
        "\n"
      ]
    },
    {
      "cell_type": "code",
      "execution_count": 111,
      "metadata": {
        "id": "Vz870VDzKU7W"
      },
      "outputs": [],
      "source": [
        "def createModel(modelType, optimizer, loss, metrics, regularizer,seed,augmentation,num_classes)->Model:\n",
        "    match modelType:\n",
        "        case ModelType.LSTM:\n",
        "            return CustomLSTM(optimizer=optimizer,loss=loss,metrics=metrics,regularizer=regularizer,seed=seed,augmentation=augmentation,num_classes=num_classes)\n",
        "\n",
        "\n",
        "\n",
        "def getOptimizer(type, learningRate):\n",
        "    match type:\n",
        "        case OptimizerType.Adam:\n",
        "            return Adam(learning_rate=learningRate)\n",
        "        case OptimizerType.Sgd:\n",
        "            return SGD(learning_rate=learningRate)\n",
        "        case OptimizerType.Lion:\n",
        "            return Lion(learning_rate=learningRate)"
      ]
    },
    {
      "cell_type": "code",
      "execution_count": 112,
      "metadata": {
        "id": "Vt7Kg4rq8xNh"
      },
      "outputs": [],
      "source": [
        "def create_dataset_lstm(df, num_classes, batch_size):\n",
        "    def generator():\n",
        "        for index, row in df.iterrows():\n",
        "            img, label = preprocess_data(row, num_classes)\n",
        "            yield img, label\n",
        "\n",
        "    dataset = tf.data.Dataset.from_generator(generator, output_signature=(tf.TensorSpec(shape=(32, 32, 3), dtype=tf.float32), tf.TensorSpec(shape=(num_classes,), dtype=tf.float32)))\n",
        "    # dataset = dataset.shuffle(buffer_size=len(df))\n",
        "    dataset = dataset.batch(batch_size)\n",
        "    # dataset = dataset.prefetch(2)\n",
        "    return dataset\n",
        "\n",
        "def getDatasetGenerator(modelType,df,num_classes,batch_size):\n",
        "    match(modelType):\n",
        "        case ModelType.LSTM:\n",
        "            return create_dataset_lstm(df,num_classes,batch_size)\n"
      ]
    },
    {
      "cell_type": "code",
      "execution_count": 117,
      "metadata": {
        "id": "W9UOg9lRKT25"
      },
      "outputs": [],
      "source": [
        "def performSingleExperiment(modelType, batchSize, epochNumber, augmentation, learningRate, seed, optimizerType,num_classes,train_data,val_data,test_split_dataset):\n",
        "    # print(f\"Performing experiment with model: {modelType}, batch size: {batchSize}, epochs: {epochNumber}, augmentation: {augmentation}, regularizer: {regularizer}, learning rate: {learningRate}, seed: {seed}\")\n",
        "    print(f\"Performing experiment with model: {modelType}, batch size: {batchSize}, epochs: {epochNumber}, augmentation: {augmentation}, regularization: {RegularizationType.NoRegularization.name},learning rate: {learningRate}, seed: {seed}, optimizer: {optimizerType.name}\")\n",
        "    set_seed(seed)\n",
        "    train_dataset = getDatasetGenerator(modelType,train_data.head(int(len(train_data)/20)), num_classes, batchSize)\n",
        "    val_dataset = getDatasetGenerator(modelType,val_data.head(int(len(val_data)/20)), num_classes, batchSize)\n",
        "    model = createModel(num_classes=num_classes,modelType=modelType,regularizer={\"type\":RegularizationType.NoRegularization,\"value\":0},optimizer=getOptimizer(type=optimizerType,learningRate=learningRate), loss='categorical_crossentropy', metrics=['accuracy'],seed=seed, augmentation=augmentation)\n",
        "    # train the model\n",
        "    history = model.fit(batch_size=batchSize,epochs=epochNumber, train_dataset=train_dataset,val_dataset=val_dataset)\n",
        "\n",
        "    # get accuracy\n",
        "    test_split_dataset_generator = getDatasetGenerator(modelType,test_split_dataset, num_classes, batch_size)\n",
        "    y_pred = model.predict(test_split_dataset_generator)\n",
        "    y_true = []\n",
        "    for index, row in test_split_dataset.iterrows():\n",
        "        y_true.append(row['label'])\n",
        "\n",
        "    accuracy = accuracy_score(y_true, y_pred)\n",
        "    return [accuracy, augmentation,optimizerType,batchSize,learningRate,epochNumber, seed], history\n",
        "\n",
        "\n",
        "def performExperiment(batchSizes, learningRates, numberOfEpochs, augmentationTechniques, regularizers,modelType,seeds,optimizers,num_classes, trainData, splits):\n",
        "    results = []\n",
        "    histories = []\n",
        "    accuracy=0\n",
        "    accuracyMean = 0\n",
        "    accuracyArray=[]\n",
        "    train_split_dataset, val_split_dataset = train_test_split(trainData, stratify=trainData['label'], test_size=0.1)\n",
        "    train_split_dataset, test_split_dataset = train_test_split(train_split_dataset, stratify=train_split_dataset['label'], test_size=splits[0])\n",
        "\n",
        "    currentBestBatchSize = batchSizes[0]\n",
        "    currentBestLearningRate = learningRates[0]\n",
        "    currentBestNumberOfEpochs = 10\n",
        "    lastExperimentNumberOfEpochs = 50\n",
        "    currentBestAugmentation =augmentationTechniques[0]\n",
        "    currentBestOptimizer = optimizers[0]\n",
        "    currentBestSplit = splits[0]\n",
        "\n",
        "    for seed in seeds:\n",
        "        result,history=performSingleExperiment(test_split_dataset=test_split_dataset,train_data=train_split_dataset,val_data=val_split_dataset,num_classes=num_classes,modelType=modelType,learningRate=currentBestLearningRate,batchSize=currentBestBatchSize,epochNumber=currentBestNumberOfEpochs,augmentation=currentBestAugmentation,seed=seed,optimizerType=currentBestOptimizer)\n",
        "        results.append(result)\n",
        "        accuracyArray.append(result[0])\n",
        "    accuracyMean=np.mean(accuracyArray)\n",
        "    accuracyArray=[]\n",
        "\n",
        "\n",
        "    for augmentation in augmentationTechniques[1:]:\n",
        "        for seed in seeds:\n",
        "            result,history=performSingleExperiment(test_split_dataset=test_split_dataset,train_data=train_split_dataset,val_data=val_split_dataset,num_classes=num_classes,modelType=modelType,learningRate=currentBestLearningRate,batchSize=currentBestBatchSize,epochNumber=currentBestNumberOfEpochs,augmentation=augmentation,seed=seed,optimizerType=currentBestOptimizer)\n",
        "            results.append(result)\n",
        "            accuracyArray.append(result[0])\n",
        "        if np.mean(accuracyArray)>accuracyMean:\n",
        "            currentBestAugmentation=augmentation\n",
        "            accuracyMean=np.mean(accuracyArray)\n",
        "\n",
        "        accuracyArray=[]\n",
        "\n",
        "\n",
        "\n",
        "\n",
        "    for optimizer in optimizers[1:]:\n",
        "        for learningRate in learningRates[1:]:\n",
        "            for seed in seeds:\n",
        "                result,history=performSingleExperiment(test_split_dataset=test_split_dataset,train_data=train_split_dataset,val_data=val_split_dataset,num_classes=num_classes,modelType=modelType,learningRate=currentBestLearningRate,batchSize=currentBestBatchSize,epochNumber=currentBestNumberOfEpochs,augmentation=currentBestAugmentation,seed=seed,optimizerType=optimizer)\n",
        "                results.append(result)\n",
        "                accuracyArray.append(result[0])\n",
        "            if np.mean(accuracyArray)>accuracyMean:\n",
        "                currentBestLearningRate=learningRate\n",
        "                currentBestOptimizer=optimizer\n",
        "                accuracyMean=np.mean(accuracyArray)\n",
        "\n",
        "        accuracyArray=[]\n",
        "\n",
        "\n",
        "    for batchSize in batchSizes[1:]:\n",
        "        for seed in seeds:\n",
        "            result,history=performSingleExperiment(test_split_dataset=test_split_dataset,train_data=train_split_dataset,val_data=val_split_dataset,num_classes=num_classes,modelType=modelType,learningRate=currentBestLearningRate,batchSize=batchSize,epochNumber=currentBestNumberOfEpochs,augmentation=currentBestAugmentation,seed=seed,optimizerType=currentBestOptimizer)\n",
        "            results.append(result)\n",
        "            accuracyArray.append(result[0])\n",
        "        if np.mean(accuracyArray)>accuracyMean:\n",
        "            currentBestBatchSize=batchSize\n",
        "            accuracyMean=np.mean(accuracyArray)\n",
        "\n",
        "        accuracyArray=[]\n",
        "\n",
        "\n",
        "    for split in splits[1:]:\n",
        "        for seed in seeds:\n",
        "            set_seed(seed)\n",
        "            train_split_dataset, val_split_dataset = train_test_split(trainData, stratify=trainData['label'], test_size=0.1)\n",
        "            train_split_dataset, test_split_dataset = train_test_split(train_split_dataset, stratify=train_split_dataset['label'], test_size=split)\n",
        "\n",
        "            result,history=performSingleExperiment(test_split_dataset=test_split_dataset,train_data=train_split_dataset,val_data=val_split_dataset,num_classes=num_classes,modelType=modelType,learningRate=currentBestLearningRate,batchSize=currentBestBatchSize,epochNumber=currentBestNumberOfEpochs,augmentation=augmentation,seed=seed,optimizerType=currentBestOptimizer)\n",
        "            results.append(result)\n",
        "            accuracyArray.append(result[0])\n",
        "        if np.mean(accuracyArray)>accuracyMean:\n",
        "            currentBestSplit=split\n",
        "            accuracyMean=np.mean(accuracyArray)\n",
        "\n",
        "        accuracyArray=[]\n",
        "\n",
        "    result,history=performSingleExperiment(test_split_dataset=test_split_dataset,train_data=train_split_dataset,val_data=val_split_dataset,num_classes=num_classes,modelType=modelType,learningRate=currentBestLearningRate,batchSize=currentBestBatchSize,epochNumber=lastExperimentNumberOfEpochs,augmentation=currentBestAugmentation,seed=seed,optimizerType=currentBestOptimizer)\n",
        "    accuracy = result[0]\n",
        "    results.append(result)\n",
        "    histories.append(history)\n",
        "\n",
        "\n",
        "\n",
        "    return results, [accuracy,currentBestBatchSize, currentBestLearningRate,currentBestNumberOfEpochs, currentBestAugmentation,currentBestOptimizer,currentBestSplit], histories"
      ]
    },
    {
      "cell_type": "code",
      "execution_count": 118,
      "metadata": {
        "id": "yH7Nu-JSxkCi"
      },
      "outputs": [],
      "source": [
        "def performExperimentsOnModel(modelType):\n",
        "    results, best, histories = performExperiment(modelType=ModelType.LSTM,batchSizes=batchSizes,learningRates=learningRates,numberOfEpochs=numberOfEpochs,augmentationTechniques=augmentationTechniques,regularizers=regularizers,seeds=seeds, optimizers=optimizers,num_classes=num_classes, splits=splits, trainData=data)\n",
        "    print(results)\n",
        "    print(best)\n",
        "    print(histories)\n",
        "    with open(\"results-\"+str(model.name),\"wb\") as my_csv:\n",
        "        pickle.dump(results,my_csv)\n",
        "    with open(\"best-\"+str(model.name),\"wb\") as my_csv:\n",
        "        pickle.dump(best,my_csv)\n",
        "    with open(\"histories-\"+str(model.name),\"wb\") as my_csv:\n",
        "        pickle.dump(histories,my_csv)\n",
        "    if IS_IN_COLAB:\n",
        "      shutil.copy(\"/content/results-\"+str(model.name), \"/content/drive/MyDrive/Studia/Masters/DeepLearning/Project2/Results/\")\n",
        "      shutil.copy(\"/content/best-\"+str(model.name), \"/content/drive/MyDrive/Studia/Masters/DeepLearning/Project2/Results/\")\n",
        "      shutil.copy(\"/content/histories-\"+str(model.name), \"/content/drive/MyDrive/Studia/Masters/DeepLearning/Project2/Results/\")\n",
        "    return results, best, histories"
      ]
    },
    {
      "cell_type": "markdown",
      "metadata": {
        "id": "HMFl7coA5mza"
      },
      "source": [
        "## Parameters"
      ]
    },
    {
      "cell_type": "code",
      "execution_count": 115,
      "metadata": {
        "id": "Ku3j1a8HQqyn"
      },
      "outputs": [],
      "source": [
        "# training process\n",
        "#batchSizes =[128,64,32]\n",
        "batchSizes = [64]\n",
        "#learningRates = [0.01,0.005,0.001]\n",
        "learningRates=[0.001]\n",
        "#numberOfEpochs =[5,10,15]\n",
        "numberOfEpochs=[10]\n",
        "\n",
        "# regularization\n",
        "#regularizers = [{\"type\":RegularizationType.NoRegularization,\"value\":0},{\"type\":RegularizationType.Dropout,\"value\":0.5},{\"type\":RegularizationType.L2,\"value\":0.01}]\n",
        "#regularizers=[{\"type\":RegularizationType.NoRegularization,\"value\":0},{\"type\":RegularizationType.Dropout,\"value\":0.3},{\"type\":RegularizationType.Dropout,\"value\":0.5},{\"type\":RegularizationType.Dropout,\"value\":0.8},{\"type\":RegularizationType.L2,\"value\":0.001},{\"type\":RegularizationType.L2,\"value\":0.01},{\"type\":RegularizationType.L2,\"value\":0.1}]\n",
        "regularizers = []\n",
        "#seeds = [123,42,9]\n",
        "#splits = [0.1, 0.2, 0.3]\n",
        "seeds=[42]\n",
        "splits=[0.1]\n",
        "models = [ModelType.LSTM]\n",
        "\n",
        "#optimizers = [OptimizerType.Adam, OptimizerType.Sgd, OptimizerType.Lion]\n",
        "optimizers=[OptimizerType.Adam]\n",
        "# augmentation\n",
        "augmentationTechniques =[AugmentationTechnique.NoAugmentation]\n",
        "#augmentationTechniques=[AugmentationTechnique.Flipping]"
      ]
    },
    {
      "cell_type": "markdown",
      "metadata": {
        "id": "SOqkxMiW5rX6"
      },
      "source": [
        "## Process"
      ]
    },
    {
      "cell_type": "code",
      "execution_count": 119,
      "metadata": {
        "colab": {
          "base_uri": "https://localhost:8080/"
        },
        "id": "QVtrf4BcQtQM",
        "outputId": "9ed8093f-1b63-475e-8b3b-c79fbbe92a9d"
      },
      "outputs": [
        {
          "name": "stdout",
          "output_type": "stream",
          "text": [
            "Performing experiment with model: ModelType.LSTM, batch size: 64, epochs: 10, augmentation: AugmentationTechnique.NoAugmentation, regularization: NoRegularization,learning rate: 0.001, seed: 42, optimizer: Adam\n",
            "Epoch 1/10\n",
            "41/41 [==============================] - 7s 115ms/step - loss: 3.3230 - accuracy: 0.0561 - val_loss: 3.1512 - val_accuracy: 0.1176\n",
            "Epoch 2/10\n",
            "41/41 [==============================] - 4s 106ms/step - loss: 2.9049 - accuracy: 0.1610 - val_loss: 2.6913 - val_accuracy: 0.2353\n",
            "Epoch 3/10\n",
            "41/41 [==============================] - 4s 106ms/step - loss: 2.3885 - accuracy: 0.2934 - val_loss: 2.3338 - val_accuracy: 0.3034\n",
            "Epoch 4/10\n",
            "41/41 [==============================] - 4s 108ms/step - loss: 1.9633 - accuracy: 0.4174 - val_loss: 1.9641 - val_accuracy: 0.4303\n",
            "Epoch 5/10\n",
            "41/41 [==============================] - 4s 108ms/step - loss: 1.6477 - accuracy: 0.5216 - val_loss: 1.7894 - val_accuracy: 0.4489\n",
            "Epoch 6/10\n",
            "41/41 [==============================] - 4s 109ms/step - loss: 1.4354 - accuracy: 0.5803 - val_loss: 1.6451 - val_accuracy: 0.5046\n",
            "Epoch 7/10\n",
            "41/41 [==============================] - 4s 107ms/step - loss: 1.2761 - accuracy: 0.6272 - val_loss: 1.4866 - val_accuracy: 0.5511\n",
            "Epoch 8/10\n",
            "41/41 [==============================] - 4s 107ms/step - loss: 1.0990 - accuracy: 0.6841 - val_loss: 1.5113 - val_accuracy: 0.5077\n",
            "Epoch 9/10\n",
            "41/41 [==============================] - 4s 107ms/step - loss: 0.9666 - accuracy: 0.7138 - val_loss: 1.3421 - val_accuracy: 0.5635\n",
            "Epoch 10/10\n",
            "41/41 [==============================] - 4s 109ms/step - loss: 0.8326 - accuracy: 0.7619 - val_loss: 1.3003 - val_accuracy: 0.5666\n",
            "46/46 [==============================] - 9s 182ms/step\n",
            "Performing experiment with model: ModelType.LSTM, batch size: 64, epochs: 50, augmentation: AugmentationTechnique.NoAugmentation, regularization: NoRegularization,learning rate: 0.001, seed: 42, optimizer: Adam\n",
            "Epoch 1/50\n",
            "41/41 [==============================] - 7s 114ms/step - loss: 3.3230 - accuracy: 0.0561 - val_loss: 3.1502 - val_accuracy: 0.1207\n",
            "Epoch 2/50\n",
            "41/41 [==============================] - 4s 105ms/step - loss: 2.9044 - accuracy: 0.1614 - val_loss: 2.6791 - val_accuracy: 0.2446\n",
            "Epoch 3/50\n",
            "41/41 [==============================] - 4s 104ms/step - loss: 2.3889 - accuracy: 0.2972 - val_loss: 2.3493 - val_accuracy: 0.3034\n",
            "Epoch 4/50\n",
            "41/41 [==============================] - 4s 103ms/step - loss: 1.9691 - accuracy: 0.4166 - val_loss: 1.9513 - val_accuracy: 0.4427\n",
            "Epoch 5/50\n",
            "41/41 [==============================] - 4s 104ms/step - loss: 1.6251 - accuracy: 0.5219 - val_loss: 1.7510 - val_accuracy: 0.4768\n",
            "Epoch 6/50\n",
            "41/41 [==============================] - 4s 105ms/step - loss: 1.3795 - accuracy: 0.6024 - val_loss: 1.6301 - val_accuracy: 0.5201\n",
            "Epoch 7/50\n",
            "41/41 [==============================] - 4s 105ms/step - loss: 1.2483 - accuracy: 0.6330 - val_loss: 1.5281 - val_accuracy: 0.5387\n",
            "Epoch 8/50\n",
            "41/41 [==============================] - 4s 104ms/step - loss: 1.0994 - accuracy: 0.6749 - val_loss: 1.4995 - val_accuracy: 0.5573\n",
            "Epoch 9/50\n",
            "41/41 [==============================] - 4s 105ms/step - loss: 0.9638 - accuracy: 0.7158 - val_loss: 1.3668 - val_accuracy: 0.5820\n",
            "Epoch 10/50\n",
            "41/41 [==============================] - 4s 104ms/step - loss: 0.7976 - accuracy: 0.7764 - val_loss: 1.2514 - val_accuracy: 0.6037\n",
            "Epoch 11/50\n",
            "41/41 [==============================] - 4s 105ms/step - loss: 0.7082 - accuracy: 0.8008 - val_loss: 1.3274 - val_accuracy: 0.5697\n",
            "Epoch 12/50\n",
            "41/41 [==============================] - 4s 103ms/step - loss: 0.6472 - accuracy: 0.8115 - val_loss: 1.1580 - val_accuracy: 0.6409\n",
            "Epoch 13/50\n",
            "41/41 [==============================] - 4s 104ms/step - loss: 0.5942 - accuracy: 0.8264 - val_loss: 1.3666 - val_accuracy: 0.6068\n",
            "Epoch 14/50\n",
            "41/41 [==============================] - 4s 106ms/step - loss: 0.5322 - accuracy: 0.8462 - val_loss: 1.3274 - val_accuracy: 0.6130\n",
            "Epoch 15/50\n",
            "41/41 [==============================] - 4s 103ms/step - loss: 0.4782 - accuracy: 0.8626 - val_loss: 1.2935 - val_accuracy: 0.6099\n",
            "Epoch 16/50\n",
            "41/41 [==============================] - 4s 106ms/step - loss: 0.4066 - accuracy: 0.8989 - val_loss: 1.2803 - val_accuracy: 0.6378\n",
            "Epoch 17/50\n",
            "41/41 [==============================] - 4s 105ms/step - loss: 0.3668 - accuracy: 0.9092 - val_loss: 1.3298 - val_accuracy: 0.6006\n",
            "Epoch 18/50\n",
            "41/41 [==============================] - 4s 105ms/step - loss: 0.3485 - accuracy: 0.9073 - val_loss: 1.3310 - val_accuracy: 0.5913\n",
            "Epoch 19/50\n",
            "41/41 [==============================] - 4s 105ms/step - loss: 0.3267 - accuracy: 0.9126 - val_loss: 1.3259 - val_accuracy: 0.6223\n",
            "Epoch 20/50\n",
            "41/41 [==============================] - 4s 105ms/step - loss: 0.2590 - accuracy: 0.9390 - val_loss: 1.2798 - val_accuracy: 0.6223\n",
            "Epoch 21/50\n",
            "41/41 [==============================] - 4s 108ms/step - loss: 0.1925 - accuracy: 0.9668 - val_loss: 1.2267 - val_accuracy: 0.6471\n",
            "Epoch 22/50\n",
            "41/41 [==============================] - 4s 103ms/step - loss: 0.1530 - accuracy: 0.9821 - val_loss: 1.1854 - val_accuracy: 0.6594\n",
            "Epoch 23/50\n",
            "41/41 [==============================] - 4s 105ms/step - loss: 0.1241 - accuracy: 0.9870 - val_loss: 1.2521 - val_accuracy: 0.6533\n",
            "Epoch 24/50\n",
            "41/41 [==============================] - 4s 106ms/step - loss: 0.1074 - accuracy: 0.9901 - val_loss: 1.2339 - val_accuracy: 0.6502\n",
            "Epoch 25/50\n",
            "41/41 [==============================] - 4s 106ms/step - loss: 0.0946 - accuracy: 0.9924 - val_loss: 1.2672 - val_accuracy: 0.6718\n",
            "Epoch 26/50\n",
            "41/41 [==============================] - 4s 108ms/step - loss: 0.0772 - accuracy: 0.9950 - val_loss: 1.2542 - val_accuracy: 0.6563\n",
            "Epoch 27/50\n",
            "41/41 [==============================] - 4s 104ms/step - loss: 0.0607 - accuracy: 0.9973 - val_loss: 1.1974 - val_accuracy: 0.6749\n",
            "Epoch 28/50\n",
            "41/41 [==============================] - 4s 105ms/step - loss: 0.0425 - accuracy: 0.9996 - val_loss: 1.1907 - val_accuracy: 0.6935\n",
            "Epoch 29/50\n",
            "41/41 [==============================] - 4s 106ms/step - loss: 0.0336 - accuracy: 0.9996 - val_loss: 1.2133 - val_accuracy: 0.6780\n",
            "Epoch 30/50\n",
            "41/41 [==============================] - 4s 104ms/step - loss: 0.0273 - accuracy: 0.9996 - val_loss: 1.2487 - val_accuracy: 0.6563\n",
            "Epoch 31/50\n",
            "41/41 [==============================] - 4s 107ms/step - loss: 0.0235 - accuracy: 1.0000 - val_loss: 1.2656 - val_accuracy: 0.6625\n",
            "Epoch 32/50\n",
            "41/41 [==============================] - 4s 104ms/step - loss: 0.0204 - accuracy: 1.0000 - val_loss: 1.2803 - val_accuracy: 0.6594\n",
            "Epoch 33/50\n",
            "41/41 [==============================] - 4s 102ms/step - loss: 0.0182 - accuracy: 1.0000 - val_loss: 1.2864 - val_accuracy: 0.6594\n",
            "Epoch 34/50\n",
            "41/41 [==============================] - 4s 103ms/step - loss: 0.0165 - accuracy: 1.0000 - val_loss: 1.2845 - val_accuracy: 0.6502\n",
            "Epoch 35/50\n",
            "41/41 [==============================] - 4s 102ms/step - loss: 0.0150 - accuracy: 1.0000 - val_loss: 1.2780 - val_accuracy: 0.6440\n",
            "Epoch 36/50\n",
            "41/41 [==============================] - 4s 104ms/step - loss: 0.0137 - accuracy: 1.0000 - val_loss: 1.2701 - val_accuracy: 0.6440\n",
            "Epoch 37/50\n",
            "41/41 [==============================] - 4s 105ms/step - loss: 0.0126 - accuracy: 1.0000 - val_loss: 1.2609 - val_accuracy: 0.6502\n",
            "Epoch 38/50\n",
            "41/41 [==============================] - 4s 104ms/step - loss: 0.0115 - accuracy: 1.0000 - val_loss: 1.2525 - val_accuracy: 0.6594\n",
            "Epoch 39/50\n",
            "41/41 [==============================] - 4s 105ms/step - loss: 0.0106 - accuracy: 1.0000 - val_loss: 1.2462 - val_accuracy: 0.6594\n",
            "Epoch 40/50\n",
            "41/41 [==============================] - 4s 108ms/step - loss: 0.0097 - accuracy: 1.0000 - val_loss: 1.2428 - val_accuracy: 0.6687\n",
            "Epoch 41/50\n",
            "41/41 [==============================] - 4s 106ms/step - loss: 0.0090 - accuracy: 1.0000 - val_loss: 1.2420 - val_accuracy: 0.6718\n",
            "Epoch 42/50\n",
            "41/41 [==============================] - 4s 105ms/step - loss: 0.0084 - accuracy: 1.0000 - val_loss: 1.2431 - val_accuracy: 0.6749\n",
            "Epoch 43/50\n",
            "41/41 [==============================] - 4s 106ms/step - loss: 0.0078 - accuracy: 1.0000 - val_loss: 1.2461 - val_accuracy: 0.6749\n",
            "Epoch 44/50\n",
            "41/41 [==============================] - 4s 106ms/step - loss: 0.0073 - accuracy: 1.0000 - val_loss: 1.2483 - val_accuracy: 0.6780\n",
            "Epoch 45/50\n",
            "41/41 [==============================] - 4s 107ms/step - loss: 0.0069 - accuracy: 1.0000 - val_loss: 1.2579 - val_accuracy: 0.6811\n",
            "Epoch 46/50\n",
            "41/41 [==============================] - 4s 102ms/step - loss: 0.0065 - accuracy: 1.0000 - val_loss: 1.2664 - val_accuracy: 0.6811\n",
            "Epoch 47/50\n",
            "41/41 [==============================] - 4s 106ms/step - loss: 0.0061 - accuracy: 1.0000 - val_loss: 1.2714 - val_accuracy: 0.6811\n",
            "Epoch 48/50\n",
            "41/41 [==============================] - 4s 104ms/step - loss: 0.0058 - accuracy: 1.0000 - val_loss: 1.2757 - val_accuracy: 0.6811\n",
            "Epoch 49/50\n",
            "41/41 [==============================] - 4s 104ms/step - loss: 0.0055 - accuracy: 1.0000 - val_loss: 1.2800 - val_accuracy: 0.6780\n",
            "Epoch 50/50\n",
            "41/41 [==============================] - 4s 106ms/step - loss: 0.0052 - accuracy: 1.0000 - val_loss: 1.2857 - val_accuracy: 0.6749\n",
            "46/46 [==============================] - 8s 175ms/step\n",
            "[[0.03450643776824034, <AugmentationTechnique.NoAugmentation: 0>, <OptimizerType.Adam: 1>, 64, 0.001, 10, 42], [0.034334763948497854, <AugmentationTechnique.NoAugmentation: 0>, <OptimizerType.Adam: 1>, 64, 0.001, 50, 42]]\n",
            "[0.034334763948497854, 64, 0.001, 10, <AugmentationTechnique.NoAugmentation: 0>, <OptimizerType.Adam: 1>, 0.1]\n",
            "[<keras.src.callbacks.History object at 0x7e8c0c6d97b0>]\n"
          ]
        }
      ],
      "source": [
        "results, best, histories =performExperimentsOnModel(ModelType.LSTM)"
      ]
    },
    {
      "cell_type": "code",
      "execution_count": 120,
      "metadata": {
        "id": "S23AH7ZNyznm"
      },
      "outputs": [],
      "source": [
        "resultsArr =[]\n",
        "bestArr = []\n",
        "historiesArr = []"
      ]
    },
    {
      "cell_type": "code",
      "execution_count": 121,
      "metadata": {
        "id": "tCl2FJumyPN5"
      },
      "outputs": [],
      "source": [
        "\n",
        "model=ModelType.LSTM\n",
        "with open(\"/content/results-\"+str(model.name), \"rb\") as f:\n",
        "    resultsArr.append(pickle.load(f))\n",
        "with open(\"/content/best-\"+str(model.name), \"rb\") as f:\n",
        "    bestArr.append(pickle.load(f))\n",
        "with open(\"/content/histories-\"+str(model.name), \"rb\") as f:\n",
        "    historiesArr.append(pickle.load(f))"
      ]
    },
    {
      "cell_type": "markdown",
      "metadata": {
        "id": "VtnidmrRSMDg"
      },
      "source": [
        "# Results"
      ]
    },
    {
      "cell_type": "markdown",
      "metadata": {
        "id": "YN4ziAOi5cLf"
      },
      "source": [
        "## Functions"
      ]
    },
    {
      "cell_type": "code",
      "execution_count": 122,
      "metadata": {
        "id": "miZ_6Ll8zEA9"
      },
      "outputs": [],
      "source": [
        "def process50EpochsResults(results,best,histories,model):\n",
        "    # Plot training and validation accuracy\n",
        "    plt.plot(histories[len(histories)-1].history['accuracy'], label='Training Accuracy')\n",
        "    plt.plot(histories[len(histories)-1].history['val_accuracy'], label='Validation Accuracy')\n",
        "    plt.xlabel('Epoch')\n",
        "    plt.ylabel('Accuracy')\n",
        "    plt.title('Training and Validation Accuracy '+str(model.name))\n",
        "    plt.legend()\n",
        "\n",
        "    plt.savefig(str(model.name)+\"-50epochs-TrainingandValidationLoss.png\", format=\"png\", bbox_inches=\"tight\")\n",
        "    if IS_IN_COLAB:\n",
        "      shutil.copy(\"/content/\"+str(model.name)+\"-50epochs-TrainingandValidationLoss.png\", \"/content/drive/MyDrive/Studia/Masters/DeepLearning/Project2/Results/\")\n",
        "    plt.show()\n",
        "\n",
        "    # Plot training and validation loss\n",
        "    plt.plot(histories[len(histories)-1].history['loss'], label='Training Loss')\n",
        "    plt.plot(histories[len(histories)-1].history['val_loss'], label='Validation Loss')\n",
        "    plt.xlabel('Epoch')\n",
        "    plt.ylabel('Loss')\n",
        "    plt.title('Training and Validation Loss '+str(model.name))\n",
        "    plt.legend()\n",
        "\n",
        "    plt.savefig(str(model.name)+\"-50epochs-TrainingandValidationLoss.png\", format=\"png\", bbox_inches=\"tight\")\n",
        "    if IS_IN_COLAB:\n",
        "      shutil.copy(\"/content/\"+str(model.name)+\"-50epochs-TrainingandValidationLoss.png\", \"/content/drive/MyDrive/Studia/Masters/DeepLearning/Project2/Results/\")\n",
        "    plt.show()"
      ]
    },
    {
      "cell_type": "markdown",
      "metadata": {
        "id": "OTnU-ULl5e_u"
      },
      "source": [
        "## LSTM"
      ]
    },
    {
      "cell_type": "code",
      "execution_count": 123,
      "metadata": {
        "colab": {
          "base_uri": "https://localhost:8080/",
          "height": 927
        },
        "id": "TT0tkEzPzdoi",
        "outputId": "49813f2d-a684-4f15-c373-4ca2cfef488c"
      },
      "outputs": [
        {
          "data": {
            "image/png": "[encoded data removed]",
            "text/plain": [
              "<Figure size 640x480 with 1 Axes>"
            ]
          },
          "metadata": {},
          "output_type": "display_data"
        },
        {
          "data": {
            "image/png": "[encoded data removed]",
            "text/plain": [
              "<Figure size 640x480 with 1 Axes>"
            ]
          },
          "metadata": {},
          "output_type": "display_data"
        }
      ],
      "source": [
        "process50EpochsResults(resultsArr[0],bestArr[0],historiesArr[0],ModelType.LSTM)"
      ]
    }
  ],
  "metadata": {
    "accelerator": "GPU",
    "colab": {
      "collapsed_sections": [
        "fPnjTxH44_gQ",
        "3Txn_0W345XV",
        "1Vuu9Ch94wpy",
        "ZeIgaT1K4uEj",
        "gdzKgj6S5j0m",
        "HMFl7coA5mza"
      ],
      "gpuType": "T4",
      "machine_shape": "hm",
      "provenance": []
    },
    "kernelspec": {
      "display_name": "Python 3",
      "name": "python3"
    },
    "language_info": {
      "name": "python"
    }
  },
  "nbformat": 4,
  "nbformat_minor": 0
}
